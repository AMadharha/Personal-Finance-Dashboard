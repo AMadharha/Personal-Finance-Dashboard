{
 "cells": [
  {
   "cell_type": "code",
   "execution_count": 73,
   "metadata": {},
   "outputs": [],
   "source": [
    "import os\n",
    "import pandas as pd\n",
    "from sqlalchemy import create_engine\n",
    "from dotenv import load_dotenv"
   ]
  },
  {
   "cell_type": "code",
   "execution_count": 74,
   "metadata": {},
   "outputs": [],
   "source": [
    "# Read csv file in data folder\n",
    "filename = os.listdir(path='data')[0]"
   ]
  },
  {
   "cell_type": "code",
   "execution_count": 75,
   "metadata": {},
   "outputs": [
    {
     "name": "stdout",
     "output_type": "stream",
     "text": [
      "  Account Type Account Number Transaction Date  Cheque Number  \\\n",
      "0     Chequing  01542-5018304        5/16/2024            NaN   \n",
      "1     Chequing  01542-5018304        5/16/2024            NaN   \n",
      "2     Chequing  01542-5018304        5/16/2024            NaN   \n",
      "3     Chequing  01542-5018304        5/16/2024            NaN   \n",
      "4     Chequing  01542-5018304        5/17/2024            NaN   \n",
      "\n",
      "     Description 1         Description 2     CAD$  USD$  \n",
      "0  STAFF - PAYROLL                   NaN  1627.10   NaN  \n",
      "1       Email Trfs      E-TRANSFER SENT    -20.00   NaN  \n",
      "2       Email Trfs      E-TRANSFER SENT   -171.50   NaN  \n",
      "3     E-TRF REQFUL                   NaN  -450.00   NaN  \n",
      "4       Email Trfs  E-TRANSFER RECEIVED     23.95   NaN  \n"
     ]
    }
   ],
   "source": [
    "# Create dataframe\n",
    "df_financial_data = pd.read_csv(f'data/{filename}', index_col=False)\n",
    "\n",
    "print(df_financial_data.head())"
   ]
  },
  {
   "cell_type": "code",
   "execution_count": 76,
   "metadata": {},
   "outputs": [
    {
     "name": "stdout",
     "output_type": "stream",
     "text": [
      "  ACCOUNT_TYPE ACCOUNT_NUMBER TRANSACTION_DATE  CHEQUE_NUMBER  \\\n",
      "0     Chequing  01542-5018304        5/16/2024            NaN   \n",
      "1     Chequing  01542-5018304        5/16/2024            NaN   \n",
      "2     Chequing  01542-5018304        5/16/2024            NaN   \n",
      "3     Chequing  01542-5018304        5/16/2024            NaN   \n",
      "4     Chequing  01542-5018304        5/17/2024            NaN   \n",
      "\n",
      "   DESCRIPTION_ONE      DESCRIPTION_TWO      CAD  USD  \n",
      "0  STAFF - PAYROLL                  NaN  1627.10  NaN  \n",
      "1       Email Trfs      E-TRANSFER SENT   -20.00  NaN  \n",
      "2       Email Trfs      E-TRANSFER SENT  -171.50  NaN  \n",
      "3     E-TRF REQFUL                  NaN  -450.00  NaN  \n",
      "4       Email Trfs  E-TRANSFER RECEIVED    23.95  NaN  \n"
     ]
    }
   ],
   "source": [
    "# Remove credit card payments\n",
    "df_financial_data = df_financial_data[df_financial_data['Description 1'] != 'PAYMENT - THANK YOU / PAIEMENT - MERCI']\n",
    "\n",
    "# Make all blank values into NULL\n",
    "df_financial_data = df_financial_data.replace(r'^\\s*$', None, regex=True)\n",
    "\n",
    "# Trim all strings\n",
    "df_financial_data = df_financial_data.map(lambda x: x.strip() if isinstance(x, str) else x)\n",
    "\n",
    "# Rename columns\n",
    "cols = ['ACCOUNT_TYPE','ACCOUNT_NUMBER','TRANSACTION_DATE','CHEQUE_NUMBER','DESCRIPTION_ONE','DESCRIPTION_TWO','CAD','USD']\n",
    "df_financial_data.columns = cols\n",
    "\n",
    "print(df_financial_data.head())"
   ]
  },
  {
   "cell_type": "code",
   "execution_count": 77,
   "metadata": {},
   "outputs": [
    {
     "name": "stdout",
     "output_type": "stream",
     "text": [
      "32.0\n"
     ]
    }
   ],
   "source": [
    "max_length = df_financial_data['DESCRIPTION_TWO'].str.len().max()\n",
    "print(max_length)"
   ]
  },
  {
   "cell_type": "code",
   "execution_count": 78,
   "metadata": {},
   "outputs": [],
   "source": [
    "load_dotenv('secrets.env')\n",
    "\n",
    "# SQL Connection\n",
    "uid = 'sa'\n",
    "pwd = os.getenv('SQL_SERVER_PWD')\n",
    "server = os.getenv('DATABASE_URL')\n",
    "database = 'FINANCIAL_TRANSACTIONS'\n",
    "driver = 'ODBC+Driver+17+for+SQL+Server'\n",
    "\n",
    "SQL_conn_str = f'mssql+pyodbc://{uid}:{pwd}@{server}/{database}?driver={driver}'\n",
    "sql_conn = create_engine(SQL_conn_str)"
   ]
  },
  {
   "cell_type": "code",
   "execution_count": 79,
   "metadata": {},
   "outputs": [
    {
     "data": {
      "text/plain": [
       "155"
      ]
     },
     "execution_count": 79,
     "metadata": {},
     "output_type": "execute_result"
    }
   ],
   "source": [
    "# Export\n",
    "df_financial_data.to_excel('Data Validation/transaction_data.xlsx', index=False)\n",
    "df_financial_data.to_sql('RBC', sql_conn, schema='dbo', if_exists='append', index=False)"
   ]
  },
  {
   "cell_type": "code",
   "execution_count": 80,
   "metadata": {},
   "outputs": [],
   "source": [
    "# Close SQL connection\n",
    "sql_conn.dispose()"
   ]
  }
 ],
 "metadata": {
  "kernelspec": {
   "display_name": "Python 3",
   "language": "python",
   "name": "python3"
  },
  "language_info": {
   "codemirror_mode": {
    "name": "ipython",
    "version": 3
   },
   "file_extension": ".py",
   "mimetype": "text/x-python",
   "name": "python",
   "nbconvert_exporter": "python",
   "pygments_lexer": "ipython3",
   "version": "3.12.5"
  }
 },
 "nbformat": 4,
 "nbformat_minor": 2
}
