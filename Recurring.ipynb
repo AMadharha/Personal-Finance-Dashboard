{
 "cells": [
  {
   "cell_type": "code",
   "execution_count": 80,
   "metadata": {},
   "outputs": [],
   "source": [
    "import os\n",
    "import pandas as pd\n",
    "import numpy as np\n",
    "from sqlalchemy import create_engine, text\n",
    "from dotenv import load_dotenv"
   ]
  },
  {
   "cell_type": "code",
   "execution_count": 81,
   "metadata": {},
   "outputs": [
    {
     "name": "stdout",
     "output_type": "stream",
     "text": [
      "CIBC_240819.csv\n"
     ]
    }
   ],
   "source": [
    "# Read csv file in data folder\n",
    "filename = os.listdir(path='data/transactions')[0]\n",
    "\n",
    "print(filename)"
   ]
  },
  {
   "cell_type": "code",
   "execution_count": 82,
   "metadata": {},
   "outputs": [
    {
     "name": "stdout",
     "output_type": "stream",
     "text": [
      "  TRANSACTION_DATE                     DESCRIPTION_ONE     P1     P2  \\\n",
      "0       2024-08-15  ROGERS ******0235 888-764-3771, ON  56.50    NaN   \n",
      "1       2024-08-07   PAYMENT THANK YOU/PAIEMEN T MERCI    NaN  23.06   \n",
      "2       2024-08-06     APPLE.COM/BILL 866-712-7753, ON   2.81    NaN   \n",
      "3       2024-08-06     APPLE.COM/BILL 866-712-7753, ON   1.46    NaN   \n",
      "4       2024-08-02        Spotify P2E30B83BC Stockholm   6.77    NaN   \n",
      "\n",
      "               CARD  \n",
      "0  4505********3187  \n",
      "1  4505********3187  \n",
      "2  4505********3187  \n",
      "3  4505********3187  \n",
      "4  4505********3187  \n"
     ]
    }
   ],
   "source": [
    "# Create dataframe\n",
    "cols = ['TRANSACTION_DATE','DESCRIPTION_ONE','P1','P2','CARD']\n",
    "\n",
    "df = pd.read_csv(f'data/transactions/{filename}', header=None, names=cols)\n",
    "\n",
    "print(df.head())"
   ]
  },
  {
   "cell_type": "code",
   "execution_count": 83,
   "metadata": {},
   "outputs": [
    {
     "name": "stdout",
     "output_type": "stream",
     "text": [
      "  TRANSACTION_DATE                     DESCRIPTION_ONE    CAD\n",
      "0       2024-08-15  ROGERS ******0235 888-764-3771, ON -56.50\n",
      "2       2024-08-06     APPLE.COM/BILL 866-712-7753, ON  -2.81\n",
      "3       2024-08-06     APPLE.COM/BILL 866-712-7753, ON  -1.46\n",
      "4       2024-08-02        Spotify P2E30B83BC Stockholm  -6.77\n",
      "5       2024-07-26             PRESTO MOBL TORONTO, ON -16.29\n"
     ]
    }
   ],
   "source": [
    "# Combine value columns\n",
    "df['CAD'] = np.where(df['P2'].notna(), df['P2'], 0) - \\\n",
    "            np.where(df['P1'].notna(), df['P1'], 0)\n",
    "\n",
    "# Drop P1, P2, and CARD columns\n",
    "df.drop(columns=['P1','P2','CARD'], inplace=True)\n",
    "\n",
    "# Remove credit card payments\n",
    "df.drop(df[df['DESCRIPTION_ONE'] == 'PAYMENT THANK YOU/PAIEMEN T MERCI'].index, inplace=True)\n",
    "\n",
    "print(df.head())"
   ]
  },
  {
   "cell_type": "code",
   "execution_count": 84,
   "metadata": {},
   "outputs": [
    {
     "name": "stdout",
     "output_type": "stream",
     "text": [
      "  TRANSACTION_DATE                     DESCRIPTION_ONE    CAD  \\\n",
      "0       2024-08-15  ROGERS ******0235 888-764-3771, ON -56.50   \n",
      "2       2024-08-06     APPLE.COM/BILL 866-712-7753, ON  -2.81   \n",
      "3       2024-08-06     APPLE.COM/BILL 866-712-7753, ON  -1.46   \n",
      "4       2024-08-02        Spotify P2E30B83BC Stockholm  -6.77   \n",
      "5       2024-07-26             PRESTO MOBL TORONTO, ON -16.29   \n",
      "\n",
      "  TRANSACTION_TYPE TRANSACTION_YM  \n",
      "0          Expense        2024-08  \n",
      "2          Expense        2024-08  \n",
      "3          Expense        2024-08  \n",
      "4          Expense        2024-08  \n",
      "5          Expense        2024-07  \n"
     ]
    }
   ],
   "source": [
    "# Create a new column 'TRANSACTION_TYPE'\n",
    "df['TRANSACTION_TYPE'] = np.where(df['CAD'] > 0, 'Income', 'Expense')\n",
    "\n",
    "# Create a new column 'TRANSACTION_YM'\n",
    "df['TRANSACTION_YM'] = df['TRANSACTION_DATE'].str[0:7]\n",
    "\n",
    "print(df.head())"
   ]
  },
  {
   "cell_type": "code",
   "execution_count": 85,
   "metadata": {},
   "outputs": [],
   "source": [
    "# Function to replace based on keywords\n",
    "def replace_based_on_keywords(value):\n",
    "    if 'APPLE' in value:\n",
    "        return 'APPLE iCloud & Google Photos'\n",
    "    elif 'ROGERS' in value:\n",
    "        return 'ROGERS Phone Bill'\n",
    "    elif 'Spotify' in value:\n",
    "        return 'Spotify'\n",
    "    elif 'PRESTO' in value:\n",
    "        return 'PRESTO'\n",
    "    return value \n",
    "\n",
    "df['DESCRIPTION_ONE'] = df['DESCRIPTION_ONE'].apply(replace_based_on_keywords)\n",
    "\n",
    "print(df.head())"
   ]
  },
  {
   "cell_type": "code",
   "execution_count": 86,
   "metadata": {},
   "outputs": [],
   "source": [
    "load_dotenv('secrets.env')\n",
    "\n",
    "# SQL Connection\n",
    "uid = 'sa'\n",
    "pwd = os.getenv('SQL_SERVER_PWD')\n",
    "server = os.getenv('DATABASE_URL')\n",
    "database = 'FINANCIAL_TRANSACTIONS'\n",
    "driver = 'ODBC+Driver+17+for+SQL+Server'\n",
    "\n",
    "SQL_conn_str = f'mssql+pyodbc://{uid}:{pwd}@{server}/{database}?driver={driver}'\n",
    "sql_conn = create_engine(SQL_conn_str)"
   ]
  },
  {
   "cell_type": "code",
   "execution_count": 87,
   "metadata": {},
   "outputs": [],
   "source": [
    "# Empty Data\n",
    "empty_query = \\\n",
    "text(\"\"\"\n",
    "TRUNCATE TABLE [dbo].[CIBC];\n",
    "\"\"\")\n",
    "\n",
    "cursor = sql_conn.connect()\n",
    "cursor.execute(empty_query)\n",
    "cursor.commit()\n",
    "cursor.close()"
   ]
  },
  {
   "cell_type": "code",
   "execution_count": 88,
   "metadata": {},
   "outputs": [
    {
     "data": {
      "text/plain": [
       "288"
      ]
     },
     "execution_count": 88,
     "metadata": {},
     "output_type": "execute_result"
    }
   ],
   "source": [
    "# Export\n",
    "df.to_excel('Data Validation/transaction_data_cibc.xlsx', index=False)\n",
    "df.to_sql('CIBC', sql_conn, schema='dbo', if_exists='append', index=False)"
   ]
  },
  {
   "cell_type": "code",
   "execution_count": 89,
   "metadata": {},
   "outputs": [],
   "source": [
    "# Close SQL connection\n",
    "sql_conn.dispose()"
   ]
  }
 ],
 "metadata": {
  "kernelspec": {
   "display_name": "Python 3",
   "language": "python",
   "name": "python3"
  },
  "language_info": {
   "codemirror_mode": {
    "name": "ipython",
    "version": 3
   },
   "file_extension": ".py",
   "mimetype": "text/x-python",
   "name": "python",
   "nbconvert_exporter": "python",
   "pygments_lexer": "ipython3",
   "version": "3.12.5"
  }
 },
 "nbformat": 4,
 "nbformat_minor": 2
}
