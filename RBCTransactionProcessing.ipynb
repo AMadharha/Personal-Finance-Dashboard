{
 "cells": [
  {
   "cell_type": "code",
   "execution_count": 25,
   "metadata": {},
   "outputs": [],
   "source": [
    "import os\n",
    "import pandas as pd\n",
    "from sqlalchemy import create_engine, text\n",
    "from dotenv import load_dotenv"
   ]
  },
  {
   "cell_type": "code",
   "execution_count": 26,
   "metadata": {},
   "outputs": [
    {
     "name": "stdout",
     "output_type": "stream",
     "text": [
      "240819.csv\n"
     ]
    }
   ],
   "source": [
    "# Read csv file in data folder\n",
    "filename = os.listdir(path='data')[0]\n",
    "\n",
    "print(filename)"
   ]
  },
  {
   "cell_type": "code",
   "execution_count": 27,
   "metadata": {},
   "outputs": [
    {
     "name": "stdout",
     "output_type": "stream",
     "text": [
      "  Account Type    Account Number Transaction Date  Cheque Number  \\\n",
      "0         Visa  4514093528573336         8/4/2024            NaN   \n",
      "1         Visa  4514093528573336         8/4/2024            NaN   \n",
      "2         Visa  4514093528573336         8/5/2024            NaN   \n",
      "3         Visa  4514093528573336         8/7/2024            NaN   \n",
      "4         Visa  4514093528573336         8/8/2024            NaN   \n",
      "\n",
      "                          Description 1  Description 2   CAD$  USD$  \n",
      "0                GAME SHACK BRAMPTON ON            NaN -86.69   NaN  \n",
      "1  COCO FRESH TEA & JUICE BRBRAMPTON ON            NaN  -7.12   NaN  \n",
      "2   GO TRANSIT - COMPLIANCE OTORONTO ON            NaN -37.00   NaN  \n",
      "3          TIM HORTONS #9337 TORONTO ON            NaN  -8.10   NaN  \n",
      "4               Subway 14721 Toronto ON            NaN -14.67   NaN  \n"
     ]
    }
   ],
   "source": [
    "# Create dataframe\n",
    "df_financial_data = pd.read_csv(f'data/{filename}', index_col=False)\n",
    "\n",
    "print(df_financial_data.head())"
   ]
  },
  {
   "cell_type": "code",
   "execution_count": 28,
   "metadata": {},
   "outputs": [
    {
     "name": "stdout",
     "output_type": "stream",
     "text": [
      "  ACCOUNT_TYPE    ACCOUNT_NUMBER TRANSACTION_DATE  CHEQUE_NUMBER  \\\n",
      "0         Visa  4514093528573336         8/4/2024            NaN   \n",
      "1         Visa  4514093528573336         8/4/2024            NaN   \n",
      "2         Visa  4514093528573336         8/5/2024            NaN   \n",
      "3         Visa  4514093528573336         8/7/2024            NaN   \n",
      "4         Visa  4514093528573336         8/8/2024            NaN   \n",
      "\n",
      "                        DESCRIPTION_ONE  DESCRIPTION_TWO    CAD  USD  \n",
      "0                GAME SHACK BRAMPTON ON              NaN -86.69  NaN  \n",
      "1  COCO FRESH TEA & JUICE BRBRAMPTON ON              NaN  -7.12  NaN  \n",
      "2   GO TRANSIT - COMPLIANCE OTORONTO ON              NaN -37.00  NaN  \n",
      "3          TIM HORTONS #9337 TORONTO ON              NaN  -8.10  NaN  \n",
      "4               Subway 14721 Toronto ON              NaN -14.67  NaN  \n"
     ]
    }
   ],
   "source": [
    "# Rename columns\n",
    "cols = ['ACCOUNT_TYPE','ACCOUNT_NUMBER','TRANSACTION_DATE','CHEQUE_NUMBER','DESCRIPTION_ONE','DESCRIPTION_TWO','CAD','USD']\n",
    "df_financial_data.columns = cols\n",
    "\n",
    "# Remove credit card payments\n",
    "df_financial_data.drop(df_financial_data[df_financial_data['ACCOUNT_TYPE'] == 'Savings'].index, inplace=True)\n",
    "\n",
    "# Remove savings account transactions\n",
    "df_financial_data.drop(df_financial_data[df_financial_data['DESCRIPTION_ONE'] == 'PAYMENT - THANK YOU / PAIEMENT - MERCI'].index, inplace=True)\n",
    "\n",
    "# Make all blank values into NULL\n",
    "df_financial_data.replace(r'^\\s*$', None, regex=True, inplace=True)\n",
    "\n",
    "# Trim all strings\n",
    "df_financial_data = df_financial_data.map(lambda x: x.strip() if isinstance(x, str) else x)\n",
    "\n",
    "print(df_financial_data.head())"
   ]
  },
  {
   "cell_type": "code",
   "execution_count": 29,
   "metadata": {},
   "outputs": [],
   "source": [
    "load_dotenv('secrets.env')\n",
    "\n",
    "# SQL Connection\n",
    "uid = 'sa'\n",
    "pwd = os.getenv('SQL_SERVER_PWD')\n",
    "server = os.getenv('DATABASE_URL')\n",
    "database = 'FINANCIAL_TRANSACTIONS'\n",
    "driver = 'ODBC+Driver+17+for+SQL+Server'\n",
    "\n",
    "SQL_conn_str = f'mssql+pyodbc://{uid}:{pwd}@{server}/{database}?driver={driver}'\n",
    "sql_conn = create_engine(SQL_conn_str)"
   ]
  },
  {
   "cell_type": "code",
   "execution_count": 30,
   "metadata": {},
   "outputs": [],
   "source": [
    "# Empty Data\n",
    "# empty_query = \\\n",
    "# text(\"\"\"\n",
    "# TRUNCATE TABLE [dbo].[RBC];\n",
    "# \"\"\")\n",
    "\n",
    "# cursor = sql_conn.connect()\n",
    "# cursor.execute(empty_query)\n",
    "# cursor.commit()\n",
    "# cursor.close()"
   ]
  },
  {
   "cell_type": "code",
   "execution_count": 31,
   "metadata": {},
   "outputs": [
    {
     "data": {
      "text/plain": [
       "15"
      ]
     },
     "execution_count": 31,
     "metadata": {},
     "output_type": "execute_result"
    }
   ],
   "source": [
    "# Export\n",
    "df_financial_data.to_excel('Data Validation/transaction_data.xlsx', index=False)\n",
    "df_financial_data.to_sql('RBC', sql_conn, schema='dbo', if_exists='append', index=False)"
   ]
  },
  {
   "cell_type": "code",
   "execution_count": 32,
   "metadata": {},
   "outputs": [],
   "source": [
    "# Close SQL connection\n",
    "sql_conn.dispose()"
   ]
  }
 ],
 "metadata": {
  "kernelspec": {
   "display_name": "Python 3",
   "language": "python",
   "name": "python3"
  },
  "language_info": {
   "codemirror_mode": {
    "name": "ipython",
    "version": 3
   },
   "file_extension": ".py",
   "mimetype": "text/x-python",
   "name": "python",
   "nbconvert_exporter": "python",
   "pygments_lexer": "ipython3",
   "version": "3.12.5"
  }
 },
 "nbformat": 4,
 "nbformat_minor": 2
}
